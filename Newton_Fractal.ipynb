{
 "cells": [
  {
   "cell_type": "code",
   "execution_count": 1,
   "metadata": {},
   "outputs": [],
   "source": [
    "using Images, Colors"
   ]
  },
  {
   "cell_type": "code",
   "execution_count": 2,
   "metadata": {},
   "outputs": [
    {
     "data": {
      "text/plain": [
       "400"
      ]
     },
     "execution_count": 2,
     "metadata": {},
     "output_type": "execute_result"
    }
   ],
   "source": [
    "imgSize = 400"
   ]
  },
  {
   "cell_type": "code",
   "execution_count": 3,
   "metadata": {},
   "outputs": [
    {
     "data": {
      "text/plain": [
       "200.0"
      ]
     },
     "execution_count": 3,
     "metadata": {},
     "output_type": "execute_result"
    }
   ],
   "source": [
    "r = imgSize/2"
   ]
  },
  {
   "cell_type": "code",
   "execution_count": 4,
   "metadata": {},
   "outputs": [
    {
     "data": {
      "text/plain": [
       "200"
      ]
     },
     "execution_count": 4,
     "metadata": {},
     "output_type": "execute_result"
    }
   ],
   "source": [
    "runs = 200"
   ]
  },
  {
   "cell_type": "code",
   "execution_count": 5,
   "metadata": {},
   "outputs": [
    {
     "data": {
      "text/plain": [
       "xtorgb (generic function with 1 method)"
      ]
     },
     "execution_count": 5,
     "metadata": {},
     "output_type": "execute_result"
    }
   ],
   "source": [
    "function xtorgb(x)\n",
    "    \n",
    "    #Three color values are set to 0 by default\n",
    "    red = 0\n",
    "    blue = 0\n",
    "    green = 0\n",
    "    \n",
    "    #Determines the green color\n",
    "    if x <= -1\n",
    "        green = 255\n",
    "    elseif x > -1 && x < 0\n",
    "        green = -x*255\n",
    "    elseif x >= 0 && x <= 2\n",
    "        green = 0\n",
    "    elseif x > 2 && x <= 3\n",
    "        green = (x-2)*255\n",
    "    elseif x > 3\n",
    "        green = 255\n",
    "    end\n",
    "               \n",
    "    #Determines the red color\n",
    "    if x <= -2\n",
    "        red = 255\n",
    "    elseif x > -2 && x < -1\n",
    "        red = (2+x)*255\n",
    "    elseif x >= -1 && x <= 1\n",
    "        red = 255\n",
    "    elseif x > 1 && x < 2\n",
    "        red = (2-x)*255\n",
    "    elseif x >= 2\n",
    "        red = 0\n",
    "    end\n",
    "                                    \n",
    "    #Determines the blue color\n",
    "    if x <= -3\n",
    "        blue = 255\n",
    "    elseif x >=-3 && x <= -2\n",
    "        blue = (-x-2)*255\n",
    "    elseif x >= -2 && x <= 0\n",
    "        blue = 0\n",
    "    elseif x > 0 && x < 1\n",
    "        blue = x*255\n",
    "    elseif x >= 1\n",
    "        blue = 255\n",
    "    end\n",
    "                                                    \n",
    "    return [red; green; blue]\n",
    "end"
   ]
  },
  {
   "cell_type": "code",
   "execution_count": 6,
   "metadata": {},
   "outputs": [
    {
     "data": {
      "text/plain": [
       "3-element Array{Float64,1}:\n",
       " 195.075\n",
       "   0.0  \n",
       " 255.0  "
      ]
     },
     "execution_count": 6,
     "metadata": {},
     "output_type": "execute_result"
    }
   ],
   "source": [
    "xtorgb(1.235)"
   ]
  },
  {
   "cell_type": "code",
   "execution_count": 7,
   "metadata": {},
   "outputs": [],
   "source": [
    "valArray = 6*rand(imgSize,imgSize).-3;"
   ]
  },
  {
   "cell_type": "code",
   "execution_count": 8,
   "metadata": {},
   "outputs": [],
   "source": [
    "rgbArray = zeros(3,imgSize,imgSize);"
   ]
  },
  {
   "cell_type": "code",
   "execution_count": 9,
   "metadata": {},
   "outputs": [],
   "source": [
    "for i = 1:imgSize\n",
    "    for j = 1:imgSize\n",
    "        rgbArray[:,i,j] = xtorgb(valArray[i,j])\n",
    "    end\n",
    "end\n",
    "\n",
    "rgbArray;"
   ]
  },
  {
   "cell_type": "code",
   "execution_count": 10,
   "metadata": {},
   "outputs": [],
   "source": [
    "colorview(RGB, rgbArray / 255);"
   ]
  },
  {
   "cell_type": "code",
   "execution_count": 11,
   "metadata": {},
   "outputs": [
    {
     "data": {
      "text/plain": [
       "picture (generic function with 1 method)"
      ]
     },
     "execution_count": 11,
     "metadata": {},
     "output_type": "execute_result"
    }
   ],
   "source": [
    "function picture(plane)\n",
    "    resolutioni = size(plane)[1]\n",
    "    resolutionj = size(plane)[2]\n",
    "    white = [255.0; 255.0; 255.0]\n",
    "    p = zeros(3, resolutioni, resolutionj)\n",
    "    \n",
    "    for i1 = 1:resolutioni\n",
    "        line = zeros(3, resolutioni)\n",
    "        \n",
    "        for j1 = 1:resolutionj\n",
    "            i = real.(plane[i1,j1])\n",
    "            j = imag.(plane[i1,j1])\n",
    "            a = xtorgb(3*atan(i,j)/pi)\n",
    "            d = sqrt(i^2 + j^2)\n",
    "            \n",
    "            if d < 1\n",
    "                c = white*(1-d)+d*a\n",
    "            else\n",
    "                c = a/d\n",
    "            end\n",
    "                \n",
    "            for l = 1:3\n",
    "                if c[l] < 0.0\n",
    "                    c[l] = 0.0\n",
    "                elseif c[l] > 255.0\n",
    "                    c[l] = 255.0\n",
    "                end\n",
    "            end\n",
    "                    \n",
    "            line[:,j1] = c\n",
    "        end\n",
    "        \n",
    "        p[:,:,i1] = line\n",
    "    end\n",
    "            \n",
    "    return p\n",
    "end    "
   ]
  },
  {
   "cell_type": "code",
   "execution_count": 12,
   "metadata": {},
   "outputs": [],
   "source": [
    "p = picture(valArray);"
   ]
  },
  {
   "cell_type": "code",
   "execution_count": 13,
   "metadata": {},
   "outputs": [],
   "source": [
    "colorview(RGB, p / 255);"
   ]
  },
  {
   "cell_type": "code",
   "execution_count": 14,
   "metadata": {},
   "outputs": [
    {
     "data": {
      "text/plain": [
       "f (generic function with 1 method)"
      ]
     },
     "execution_count": 14,
     "metadata": {},
     "output_type": "execute_result"
    }
   ],
   "source": [
    "function f(x)\n",
    "    return x^5 - x + 1\n",
    "end"
   ]
  },
  {
   "cell_type": "code",
   "execution_count": 15,
   "metadata": {},
   "outputs": [
    {
     "data": {
      "text/plain": [
       "df (generic function with 1 method)"
      ]
     },
     "execution_count": 15,
     "metadata": {},
     "output_type": "execute_result"
    }
   ],
   "source": [
    "function df(x)\n",
    "    return 5x^4 - 1\n",
    "end"
   ]
  },
  {
   "cell_type": "code",
   "execution_count": 16,
   "metadata": {},
   "outputs": [
    {
     "data": {
      "text/plain": [
       "newton (generic function with 1 method)"
      ]
     },
     "execution_count": 16,
     "metadata": {},
     "output_type": "execute_result"
    }
   ],
   "source": [
    "function newton(x)\n",
    "    return x - f(x)/df(x)\n",
    "end"
   ]
  },
  {
   "cell_type": "code",
   "execution_count": 17,
   "metadata": {},
   "outputs": [
    {
     "data": {
      "text/plain": [
       "steffensen (generic function with 1 method)"
      ]
     },
     "execution_count": 17,
     "metadata": {},
     "output_type": "execute_result"
    }
   ],
   "source": [
    "function steffensen(x)\n",
    "    z = f(x)\n",
    "    t5 = x^2\n",
    "    t6 = t5^2\n",
    "    t33 = x*(1+x*(1+x*(1+x*(1+x*(4+x*(3+x*(2+x*(1+t5*(6+\n",
    "         x*(3+x*(1+t5*x*(4+x*(t6+1)))))))))))))\n",
    "    if t33 == 0\n",
    "        println(\"zero\")\n",
    "        return x\n",
    "    end\n",
    "    return x-z/t33\n",
    "end"
   ]
  },
  {
   "cell_type": "code",
   "execution_count": 18,
   "metadata": {},
   "outputs": [],
   "source": [
    "tmpa = transpose(2*collect(-r:r-1)/r);"
   ]
  },
  {
   "cell_type": "code",
   "execution_count": 19,
   "metadata": {},
   "outputs": [],
   "source": [
    "tmpb = ones(1,imgSize);"
   ]
  },
  {
   "cell_type": "code",
   "execution_count": 20,
   "metadata": {},
   "outputs": [],
   "source": [
    "plane = (transpose(tmpa)*tmpb)*1im;"
   ]
  },
  {
   "cell_type": "code",
   "execution_count": 21,
   "metadata": {},
   "outputs": [],
   "source": [
    "plane = plane + (transpose(tmpb)*tmpa);"
   ]
  },
  {
   "cell_type": "code",
   "execution_count": 22,
   "metadata": {},
   "outputs": [],
   "source": [
    "pictureArray = zeros(imgSize, imgSize, runs)*0im;"
   ]
  },
  {
   "cell_type": "code",
   "execution_count": 23,
   "metadata": {},
   "outputs": [],
   "source": [
    "newPlane = zeros(imgSize, imgSize)*0im;"
   ]
  },
  {
   "cell_type": "code",
   "execution_count": 24,
   "metadata": {},
   "outputs": [],
   "source": [
    "for i = 1:runs\n",
    "    resolutioni = size(plane)[1]\n",
    "    resolutionj = size(plane)[2]\n",
    "    \n",
    "    for i1 = 1:resolutioni\n",
    "        for j1 = 1:resolutionj\n",
    "            newPlane[i1,j1] = newton(plane[i1,j1])\n",
    "        end\n",
    "    end\n",
    "    \n",
    "    plane = newPlane\n",
    "    \n",
    "    pictureArray[:,:,i] = newPlane\n",
    "end"
   ]
  },
  {
   "cell_type": "code",
   "execution_count": 25,
   "metadata": {},
   "outputs": [
    {
     "data": {
      "image/png": "[encoded data removed]",
      "text/plain": [
       "400×400 reshape(reinterpret(RGB{Float64}, ::Array{Float64,3}), 400, 400) with eltype RGB{Float64}:\n",
       " RGB{Float64}(0.231627,0.15781,1.0)  …  RGB{Float64}(0.926183,0.15781,1.0)\n",
       " RGB{Float64}(0.231627,0.15781,1.0)     RGB{Float64}(0.926183,0.15781,1.0)\n",
       " RGB{Float64}(0.231627,0.15781,1.0)     RGB{Float64}(0.926183,0.15781,1.0)\n",
       " RGB{Float64}(0.231627,0.15781,1.0)     RGB{Float64}(0.926183,0.15781,1.0)\n",
       " RGB{Float64}(0.231627,0.15781,1.0)     RGB{Float64}(0.926183,0.15781,1.0)\n",
       " RGB{Float64}(0.231627,0.15781,1.0)  …  RGB{Float64}(0.926183,0.15781,1.0)\n",
       " RGB{Float64}(0.231627,0.15781,1.0)     RGB{Float64}(0.926183,0.15781,1.0)\n",
       " RGB{Float64}(0.231627,0.15781,1.0)     RGB{Float64}(0.926183,0.15781,1.0)\n",
       " RGB{Float64}(0.231627,0.15781,1.0)     RGB{Float64}(0.926183,0.15781,1.0)\n",
       " RGB{Float64}(0.231627,0.15781,1.0)     RGB{Float64}(0.926183,0.15781,1.0)\n",
       " RGB{Float64}(0.231627,0.15781,1.0)  …  RGB{Float64}(0.926183,0.15781,1.0)\n",
       " RGB{Float64}(0.231627,0.15781,1.0)     RGB{Float64}(0.926183,0.15781,1.0)\n",
       " RGB{Float64}(0.231627,0.15781,1.0)     RGB{Float64}(0.926183,0.15781,1.0)\n",
       " ⋮                                   ⋱                                    \n",
       " RGB{Float64}(0.231627,0.15781,1.0)     RGB{Float64}(0.926183,0.15781,1.0)\n",
       " RGB{Float64}(0.231627,0.15781,1.0)     RGB{Float64}(0.926183,0.15781,1.0)\n",
       " RGB{Float64}(0.231627,0.15781,1.0)  …  RGB{Float64}(0.926183,0.15781,1.0)\n",
       " RGB{Float64}(0.231627,0.15781,1.0)     RGB{Float64}(0.926183,0.15781,1.0)\n",
       " RGB{Float64}(0.231627,0.15781,1.0)     RGB{Float64}(0.926183,0.15781,1.0)\n",
       " RGB{Float64}(0.231627,0.15781,1.0)     RGB{Float64}(0.926183,0.15781,1.0)\n",
       " RGB{Float64}(0.231627,0.15781,1.0)     RGB{Float64}(0.926183,0.15781,1.0)\n",
       " RGB{Float64}(0.231627,0.15781,1.0)  …  RGB{Float64}(0.926183,0.15781,1.0)\n",
       " RGB{Float64}(0.231627,0.15781,1.0)     RGB{Float64}(0.926183,0.15781,1.0)\n",
       " RGB{Float64}(0.231627,0.15781,1.0)     RGB{Float64}(0.926183,0.15781,1.0)\n",
       " RGB{Float64}(0.231627,0.15781,1.0)     RGB{Float64}(0.926183,0.15781,1.0)\n",
       " RGB{Float64}(0.231627,0.15781,1.0)     RGB{Float64}(0.926183,0.15781,1.0)"
      ]
     },
     "execution_count": 25,
     "metadata": {},
     "output_type": "execute_result"
    }
   ],
   "source": [
    "colorview(RGB, picture(pictureArray[:,:,runs]) / 255)"
   ]
  },
  {
   "cell_type": "code",
   "execution_count": null,
   "metadata": {},
   "outputs": [],
   "source": []
  }
 ],
 "metadata": {
  "kernelspec": {
   "display_name": "Julia 1.3.1",
   "language": "julia",
   "name": "julia-1.3"
  },
  "language_info": {
   "file_extension": ".jl",
   "mimetype": "application/julia",
   "name": "julia",
   "version": "1.3.1"
  }
 },
 "nbformat": 4,
 "nbformat_minor": 2
}
